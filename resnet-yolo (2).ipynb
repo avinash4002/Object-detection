{
 "cells": [
  {
   "cell_type": "code",
   "execution_count": 1,
   "id": "b076f6f2",
   "metadata": {
    "execution": {
     "iopub.execute_input": "2025-05-26T07:30:35.480722Z",
     "iopub.status.busy": "2025-05-26T07:30:35.480082Z",
     "iopub.status.idle": "2025-05-26T07:31:47.161539Z",
     "shell.execute_reply": "2025-05-26T07:31:47.160379Z"
    },
    "id": "BTbbRSn74zf_",
    "outputId": "317ac4a8-5603-4df0-ba40-6b81e329f213",
    "papermill": {
     "duration": 71.690208,
     "end_time": "2025-05-26T07:31:47.163803",
     "exception": false,
     "start_time": "2025-05-26T07:30:35.473595",
     "status": "completed"
    },
    "tags": []
   },
   "outputs": [
    {
     "name": "stdout",
     "output_type": "stream",
     "text": [
      "\u001b[2K   \u001b[90m━━━━━━━━━━━━━━━━━━━━━━━━━━━━━━━━━━━━━━━━\u001b[0m \u001b[32m363.4/363.4 MB\u001b[0m \u001b[31m4.7 MB/s\u001b[0m eta \u001b[36m0:00:00\u001b[0m\r\n",
      "\u001b[2K   \u001b[90m━━━━━━━━━━━━━━━━━━━━━━━━━━━━━━━━━━━━━━━━\u001b[0m \u001b[32m664.8/664.8 MB\u001b[0m \u001b[31m2.5 MB/s\u001b[0m eta \u001b[36m0:00:00\u001b[0m\r\n",
      "\u001b[2K   \u001b[90m━━━━━━━━━━━━━━━━━━━━━━━━━━━━━━━━━━━━━━━━\u001b[0m \u001b[32m211.5/211.5 MB\u001b[0m \u001b[31m8.0 MB/s\u001b[0m eta \u001b[36m0:00:00\u001b[0m\r\n",
      "\u001b[2K   \u001b[90m━━━━━━━━━━━━━━━━━━━━━━━━━━━━━━━━━━━━━━━━\u001b[0m \u001b[32m56.3/56.3 MB\u001b[0m \u001b[31m32.2 MB/s\u001b[0m eta \u001b[36m0:00:00\u001b[0m\r\n",
      "\u001b[2K   \u001b[90m━━━━━━━━━━━━━━━━━━━━━━━━━━━━━━━━━━━━━━━━\u001b[0m \u001b[32m127.9/127.9 MB\u001b[0m \u001b[31m13.5 MB/s\u001b[0m eta \u001b[36m0:00:00\u001b[0m\r\n",
      "\u001b[2K   \u001b[90m━━━━━━━━━━━━━━━━━━━━━━━━━━━━━━━━━━━━━━━━\u001b[0m \u001b[32m207.5/207.5 MB\u001b[0m \u001b[31m8.2 MB/s\u001b[0m eta \u001b[36m0:00:00\u001b[0m\r\n",
      "\u001b[2K   \u001b[90m━━━━━━━━━━━━━━━━━━━━━━━━━━━━━━━━━━━━━━━━\u001b[0m \u001b[32m21.1/21.1 MB\u001b[0m \u001b[31m70.6 MB/s\u001b[0m eta \u001b[36m0:00:00\u001b[0m\r\n",
      "\u001b[?25h"
     ]
    }
   ],
   "source": [
    "# Install necessary libraries\n",
    "!pip install -q torch torchvision albumentations xmltodict matplotlib\n"
   ]
  },
  {
   "cell_type": "code",
   "execution_count": 2,
   "id": "2c13a598",
   "metadata": {
    "execution": {
     "iopub.execute_input": "2025-05-26T07:31:47.224175Z",
     "iopub.status.busy": "2025-05-26T07:31:47.223515Z",
     "iopub.status.idle": "2025-05-26T07:31:58.458229Z",
     "shell.execute_reply": "2025-05-26T07:31:58.457406Z"
    },
    "id": "A_d1Rqz95GCa",
    "outputId": "a05a6678-3ae5-450c-c7e2-8274d8021803",
    "papermill": {
     "duration": 11.26638,
     "end_time": "2025-05-26T07:31:58.459530",
     "exception": false,
     "start_time": "2025-05-26T07:31:47.193150",
     "status": "completed"
    },
    "tags": []
   },
   "outputs": [
    {
     "name": "stderr",
     "output_type": "stream",
     "text": [
      "/usr/local/lib/python3.11/dist-packages/albumentations/__init__.py:28: UserWarning: A new version of Albumentations is available: '2.0.7' (you have '2.0.5'). Upgrade using: pip install -U albumentations. To disable automatic update checks, set the environment variable NO_ALBUMENTATIONS_UPDATE to 1.\n",
      "  check_for_updates()\n"
     ]
    }
   ],
   "source": [
    "import os\n",
    "import glob\n",
    "import xmltodict\n",
    "import torch\n",
    "import torch.nn as nn\n",
    "import torchvision.models as models\n",
    "import numpy as np\n",
    "import matplotlib.pyplot as plt\n",
    "from torch.utils.data import Dataset, DataLoader\n",
    "from PIL import Image\n",
    "import albumentations as A\n",
    "from albumentations.pytorch import ToTensorV2\n"
   ]
  },
  {
   "cell_type": "code",
   "execution_count": 3,
   "id": "1441d10f",
   "metadata": {
    "execution": {
     "iopub.execute_input": "2025-05-26T07:31:58.500839Z",
     "iopub.status.busy": "2025-05-26T07:31:58.500484Z",
     "iopub.status.idle": "2025-05-26T07:32:02.943299Z",
     "shell.execute_reply": "2025-05-26T07:32:02.942193Z"
    },
    "id": "_ixMAiDH5nqG",
    "outputId": "526b7c40-2692-4bbc-b99c-289d8cddbcca",
    "papermill": {
     "duration": 4.463801,
     "end_time": "2025-05-26T07:32:02.944669",
     "exception": false,
     "start_time": "2025-05-26T07:31:58.480868",
     "status": "completed"
    },
    "tags": []
   },
   "outputs": [
    {
     "name": "stdout",
     "output_type": "stream",
     "text": [
      "/kaggle/working/data\n",
      "--2025-05-26 07:31:58--  http://host.robots.ox.ac.uk/pascal/VOC/voc2007/VOCtrainval_06-Nov-2007.tar\r\n",
      "Resolving host.robots.ox.ac.uk (host.robots.ox.ac.uk)... 129.67.94.152\r\n",
      "Connecting to host.robots.ox.ac.uk (host.robots.ox.ac.uk)|129.67.94.152|:80... connected.\r\n",
      "HTTP request sent, awaiting response... 200 OK\r\n",
      "Length: 460032000 (439M) [application/x-tar]\r\n",
      "Saving to: ‘VOCtrainval_06-Nov-2007.tar’\r\n",
      "\r\n",
      "VOCtrainval_06-Nov- 100%[===================>] 438.72M   141MB/s    in 3.1s    \r\n",
      "\r\n",
      "2025-05-26 07:32:01 (141 MB/s) - ‘VOCtrainval_06-Nov-2007.tar’ saved [460032000/460032000]\r\n",
      "\r\n",
      "/kaggle/working\n"
     ]
    }
   ],
   "source": [
    "# Create folder and download VOC 2007\n",
    "!mkdir -p data\n",
    "%cd data\n",
    "!wget http://host.robots.ox.ac.uk/pascal/VOC/voc2007/VOCtrainval_06-Nov-2007.tar\n",
    "!tar -xf VOCtrainval_06-Nov-2007.tar\n",
    "%cd ..\n"
   ]
  },
  {
   "cell_type": "code",
   "execution_count": 4,
   "id": "9931a1eb",
   "metadata": {
    "execution": {
     "iopub.execute_input": "2025-05-26T07:32:02.986429Z",
     "iopub.status.busy": "2025-05-26T07:32:02.986193Z",
     "iopub.status.idle": "2025-05-26T07:32:02.995621Z",
     "shell.execute_reply": "2025-05-26T07:32:02.995123Z"
    },
    "id": "uEU8q3qm5p_j",
    "papermill": {
     "duration": 0.031176,
     "end_time": "2025-05-26T07:32:02.996701",
     "exception": false,
     "start_time": "2025-05-26T07:32:02.965525",
     "status": "completed"
    },
    "tags": []
   },
   "outputs": [],
   "source": [
    "class VOCDataset(Dataset):\n",
    "    def __init__(self, root_dir, transforms=None):\n",
    "        self.root_dir = root_dir\n",
    "        self.transforms = transforms\n",
    "        self.image_paths = sorted(glob.glob(os.path.join(root_dir, \"JPEGImages\", \"*.jpg\")))\n",
    "        self.annotation_paths = sorted(glob.glob(os.path.join(root_dir, \"Annotations\", \"*.xml\")))\n",
    "\n",
    "        self.class_names = [\n",
    "            \"aeroplane\", \"bicycle\", \"bird\", \"boat\", \"bottle\",\n",
    "            \"bus\", \"car\", \"cat\", \"chair\", \"cow\",\n",
    "            \"diningtable\", \"dog\", \"horse\", \"motorbike\", \"person\",\n",
    "            \"pottedplant\", \"sheep\", \"sofa\", \"train\", \"tvmonitor\"\n",
    "        ]\n",
    "        self.class_dict = {k: v for v, k in enumerate(self.class_names)}\n",
    "\n",
    "    def __len__(self):\n",
    "        return len(self.image_paths)\n",
    "\n",
    "    def __getitem__(self, idx):\n",
    "        img_path = self.image_paths[idx]\n",
    "        anno_path = self.annotation_paths[idx]\n",
    "\n",
    "        img = Image.open(img_path).convert(\"RGB\")\n",
    "        img = np.array(img)\n",
    "\n",
    "        with open(anno_path) as f:\n",
    "            anno = xmltodict.parse(f.read())[\"annotation\"]\n",
    "\n",
    "        boxes = []\n",
    "        labels = []\n",
    "\n",
    "        objects = anno.get(\"object\", [])\n",
    "        if not isinstance(objects, list):\n",
    "            objects = [objects]\n",
    "\n",
    "        for obj in objects:\n",
    "            label = self.class_dict[obj[\"name\"]]\n",
    "            bbox = obj[\"bndbox\"]\n",
    "            box = [\n",
    "                float(bbox[\"xmin\"]),\n",
    "                float(bbox[\"ymin\"]),\n",
    "                float(bbox[\"xmax\"]),\n",
    "                float(bbox[\"ymax\"])\n",
    "            ]\n",
    "            boxes.append(box)\n",
    "            labels.append(label)\n",
    "\n",
    "        if self.transforms:\n",
    "            transformed = self.transforms(image=img, bboxes=boxes, class_labels=labels)\n",
    "            img = transformed[\"image\"]\n",
    "            boxes = transformed[\"bboxes\"]\n",
    "            labels = transformed[\"class_labels\"]\n",
    "\n",
    "        target = {\"boxes\": torch.tensor(boxes, dtype=torch.float32),\n",
    "                  \"labels\": torch.tensor(labels, dtype=torch.int64)}\n",
    "\n",
    "        return img, target\n"
   ]
  },
  {
   "cell_type": "code",
   "execution_count": 5,
   "id": "67af5605",
   "metadata": {
    "execution": {
     "iopub.execute_input": "2025-05-26T07:32:03.036909Z",
     "iopub.status.busy": "2025-05-26T07:32:03.036689Z",
     "iopub.status.idle": "2025-05-26T07:32:03.064806Z",
     "shell.execute_reply": "2025-05-26T07:32:03.064317Z"
    },
    "id": "b9wFEm5U5vUc",
    "papermill": {
     "duration": 0.049343,
     "end_time": "2025-05-26T07:32:03.065768",
     "exception": false,
     "start_time": "2025-05-26T07:32:03.016425",
     "status": "completed"
    },
    "tags": []
   },
   "outputs": [],
   "source": [
    "transform = A.Compose([\n",
    "    A.Resize(448, 448),\n",
    "    A.Normalize(mean=(0.485, 0.456, 0.406), std=(0.229, 0.224, 0.225)),\n",
    "    ToTensorV2()\n",
    "], bbox_params=A.BboxParams(format='pascal_voc', label_fields=['class_labels']))\n",
    "\n",
    "dataset = VOCDataset(\"data/VOCdevkit/VOC2007\", transforms=transform)\n",
    "loader = DataLoader(dataset, batch_size=4, shuffle=True, collate_fn=lambda x: tuple(zip(*x)))\n"
   ]
  },
  {
   "cell_type": "code",
   "execution_count": 6,
   "id": "47f0b631",
   "metadata": {
    "execution": {
     "iopub.execute_input": "2025-05-26T07:32:03.106529Z",
     "iopub.status.busy": "2025-05-26T07:32:03.106153Z",
     "iopub.status.idle": "2025-05-26T07:32:03.111255Z",
     "shell.execute_reply": "2025-05-26T07:32:03.110683Z"
    },
    "id": "8i6Pt86p5xlG",
    "papermill": {
     "duration": 0.026641,
     "end_time": "2025-05-26T07:32:03.112420",
     "exception": false,
     "start_time": "2025-05-26T07:32:03.085779",
     "status": "completed"
    },
    "tags": []
   },
   "outputs": [],
   "source": [
    "class YOLOResNet(nn.Module):\n",
    "    def __init__(self, num_classes=20, S=7, B=2):\n",
    "        super(YOLOResNet, self).__init__()\n",
    "        self.S = S\n",
    "        self.B = B\n",
    "        self.C = num_classes\n",
    "\n",
    "        resnet = models.resnet34(pretrained=True)\n",
    "        self.backbone = nn.Sequential(\n",
    "    *list(resnet.children())[:-2],\n",
    "    nn.AdaptiveAvgPool2d((S, S))  # This forces output to [B, 512, 7, 7]\n",
    ")\n",
    "        self.head = nn.Sequential(\n",
    "            nn.Conv2d(512, 1024, kernel_size=3, padding=1),\n",
    "            nn.ReLU(),\n",
    "            nn.Conv2d(1024, self.C + self.B * 5, kernel_size=1)  # Output: [B, 30, S, S]\n",
    "        )\n",
    "\n",
    "\n",
    "    def forward(self, x):\n",
    "        x = self.backbone(x)\n",
    "        x = self.head(x)\n",
    "        return x.permute(0,2,3,1)"
   ]
  },
  {
   "cell_type": "code",
   "execution_count": 7,
   "id": "fc9e1679",
   "metadata": {
    "execution": {
     "iopub.execute_input": "2025-05-26T07:32:03.152911Z",
     "iopub.status.busy": "2025-05-26T07:32:03.152702Z",
     "iopub.status.idle": "2025-05-26T07:32:03.230830Z",
     "shell.execute_reply": "2025-05-26T07:32:03.230120Z"
    },
    "id": "lw77d6A266w1",
    "papermill": {
     "duration": 0.099911,
     "end_time": "2025-05-26T07:32:03.232241",
     "exception": false,
     "start_time": "2025-05-26T07:32:03.132330",
     "status": "completed"
    },
    "tags": []
   },
   "outputs": [],
   "source": [
    "device=torch.device(\"cuda\" if torch.cuda.is_available() else \"cpu\")"
   ]
  },
  {
   "cell_type": "code",
   "execution_count": 8,
   "id": "cbe7e9c3",
   "metadata": {
    "execution": {
     "iopub.execute_input": "2025-05-26T07:32:03.273529Z",
     "iopub.status.busy": "2025-05-26T07:32:03.273313Z",
     "iopub.status.idle": "2025-05-26T07:32:03.277521Z",
     "shell.execute_reply": "2025-05-26T07:32:03.276816Z"
    },
    "papermill": {
     "duration": 0.025999,
     "end_time": "2025-05-26T07:32:03.278638",
     "exception": false,
     "start_time": "2025-05-26T07:32:03.252639",
     "status": "completed"
    },
    "tags": []
   },
   "outputs": [
    {
     "name": "stdout",
     "output_type": "stream",
     "text": [
      "cuda\n"
     ]
    }
   ],
   "source": [
    "print(device)"
   ]
  },
  {
   "cell_type": "code",
   "execution_count": 9,
   "id": "b2029cd5",
   "metadata": {
    "execution": {
     "iopub.execute_input": "2025-05-26T07:32:03.365007Z",
     "iopub.status.busy": "2025-05-26T07:32:03.364512Z",
     "iopub.status.idle": "2025-05-26T07:32:03.371687Z",
     "shell.execute_reply": "2025-05-26T07:32:03.371032Z"
    },
    "papermill": {
     "duration": 0.073692,
     "end_time": "2025-05-26T07:32:03.372810",
     "exception": false,
     "start_time": "2025-05-26T07:32:03.299118",
     "status": "completed"
    },
    "tags": []
   },
   "outputs": [],
   "source": [
    "class YOLOLoss(nn.Module):\n",
    "    def __init__(self, S=7, B=2, C=20, lambda_coord=5, lambda_noobj=0.5):\n",
    "        super(YOLOLoss, self).__init__()\n",
    "        self.mse = nn.MSELoss(reduction=\"sum\")\n",
    "        self.S = S\n",
    "        self.B = B\n",
    "        self.C = C\n",
    "        self.lambda_coord = lambda_coord\n",
    "        self.lambda_noobj = lambda_noobj\n",
    "\n",
    "    def forward(self, predictions, targets):\n",
    "        # predictions: [B, S, S, 30]\n",
    "        # targets: [B, S, S, 30]\n",
    "        obj_mask = targets[..., 4] > 0  # Object present\n",
    "        noobj_mask = targets[..., 4] == 0  # No object\n",
    "\n",
    "        # === 1. Coordinate loss ===\n",
    "        coord_loss = self.mse(\n",
    "            predictions[obj_mask][..., 0:2],\n",
    "            targets[obj_mask][..., 0:2]\n",
    "        ) + self.mse(\n",
    "            torch.sqrt(torch.abs(predictions[obj_mask][..., 2:4] + 1e-6)),\n",
    "            torch.sqrt(torch.abs(targets[obj_mask][..., 2:4] + 1e-6))\n",
    "        )\n",
    "\n",
    "        # === 2. Objectness (confidence) loss ===\n",
    "        obj_loss = self.mse(\n",
    "            predictions[obj_mask][..., 4],\n",
    "            targets[obj_mask][..., 4]\n",
    "        )\n",
    "\n",
    "        # === 3. No-object loss ===\n",
    "        noobj_loss = self.mse(\n",
    "            predictions[noobj_mask][..., 4],\n",
    "            targets[noobj_mask][..., 4]\n",
    "        )\n",
    "\n",
    "        # === 4. Class loss ===\n",
    "        class_loss = self.mse(\n",
    "            predictions[obj_mask][..., 10:],\n",
    "            targets[obj_mask][..., 10:]\n",
    "        )\n",
    "\n",
    "        total_loss = (\n",
    "            self.lambda_coord * coord_loss +\n",
    "            obj_loss +\n",
    "            self.lambda_noobj * noobj_loss +\n",
    "            class_loss\n",
    "        )\n",
    "\n",
    "        return total_loss\n"
   ]
  },
  {
   "cell_type": "code",
   "execution_count": 10,
   "id": "6e40aafa",
   "metadata": {
    "execution": {
     "iopub.execute_input": "2025-05-26T07:32:03.413982Z",
     "iopub.status.busy": "2025-05-26T07:32:03.413762Z",
     "iopub.status.idle": "2025-05-26T07:32:04.569808Z",
     "shell.execute_reply": "2025-05-26T07:32:04.569237Z"
    },
    "id": "Zyuhtjj86hsu",
    "outputId": "fc7fef29-9402-49f7-db6c-9a8853728b20",
    "papermill": {
     "duration": 1.178004,
     "end_time": "2025-05-26T07:32:04.571234",
     "exception": false,
     "start_time": "2025-05-26T07:32:03.393230",
     "status": "completed"
    },
    "tags": []
   },
   "outputs": [
    {
     "name": "stderr",
     "output_type": "stream",
     "text": [
      "/usr/local/lib/python3.11/dist-packages/torchvision/models/_utils.py:208: UserWarning: The parameter 'pretrained' is deprecated since 0.13 and may be removed in the future, please use 'weights' instead.\n",
      "  warnings.warn(\n",
      "/usr/local/lib/python3.11/dist-packages/torchvision/models/_utils.py:223: UserWarning: Arguments other than a weight enum or `None` for 'weights' are deprecated since 0.13 and may be removed in the future. The current behavior is equivalent to passing `weights=ResNet34_Weights.IMAGENET1K_V1`. You can also use `weights=ResNet34_Weights.DEFAULT` to get the most up-to-date weights.\n",
      "  warnings.warn(msg)\n",
      "Downloading: \"https://download.pytorch.org/models/resnet34-b627a593.pth\" to /root/.cache/torch/hub/checkpoints/resnet34-b627a593.pth\n",
      "100%|██████████| 83.3M/83.3M [00:00<00:00, 209MB/s]\n"
     ]
    }
   ],
   "source": [
    "model = YOLOResNet(S=7)\n",
    "model.to(device)\n",
    "optimizer = torch.optim.Adam(model.parameters(), lr=1e-4)\n",
    "#criterion = nn.MSELoss()  # Placeholder — use YOLO loss later\n",
    "criterion=YOLOLoss(S=7, B=2, C=20)"
   ]
  },
  {
   "cell_type": "markdown",
   "id": "dd7eb2f2",
   "metadata": {
    "id": "a7ekKmd79fuQ",
    "papermill": {
     "duration": 0.020243,
     "end_time": "2025-05-26T07:32:04.613262",
     "exception": false,
     "start_time": "2025-05-26T07:32:04.593019",
     "status": "completed"
    },
    "tags": []
   },
   "source": [
    "#try with the yolo\n"
   ]
  },
  {
   "cell_type": "code",
   "execution_count": 11,
   "id": "f9a75b57",
   "metadata": {
    "execution": {
     "iopub.execute_input": "2025-05-26T07:32:04.655450Z",
     "iopub.status.busy": "2025-05-26T07:32:04.655018Z",
     "iopub.status.idle": "2025-05-26T07:32:04.661567Z",
     "shell.execute_reply": "2025-05-26T07:32:04.660990Z"
    },
    "id": "RxTFwxsj9fUJ",
    "papermill": {
     "duration": 0.028657,
     "end_time": "2025-05-26T07:32:04.662746",
     "exception": false,
     "start_time": "2025-05-26T07:32:04.634089",
     "status": "completed"
    },
    "tags": []
   },
   "outputs": [],
   "source": [
    "def encode_yolo_targets(targets, S=7, B=2, C=20, img_size=448):\n",
    "    batch_size = len(targets)\n",
    "    target_tensor = torch.zeros((batch_size, S, S, B*5 + C))\n",
    "\n",
    "    for b in range(batch_size):\n",
    "        boxes = targets[b]['boxes']\n",
    "        labels = targets[b]['labels']\n",
    "\n",
    "        for i in range(len(boxes)):\n",
    "            xmin, ymin, xmax, ymax = boxes[i]\n",
    "            class_id = labels[i].item()\n",
    "\n",
    "            # Convert to center x,y and width, height\n",
    "            x_center = ((xmin + xmax) / 2) / img_size\n",
    "            y_center = ((ymin + ymax) / 2) / img_size\n",
    "            w = (xmax - xmin) / img_size\n",
    "            h = (ymax - ymin) / img_size\n",
    "\n",
    "            grid_x = int(x_center * S)\n",
    "            grid_y = int(y_center * S)\n",
    "            x_cell = x_center * S - grid_x\n",
    "            y_cell = y_center * S - grid_y\n",
    "\n",
    "            if target_tensor[b, grid_y, grid_x, 4] == 0:\n",
    "                target_tensor[b, grid_y, grid_x, 0:5] = torch.tensor([x_cell, y_cell, w, h, 1])\n",
    "                target_tensor[b, grid_y, grid_x, 10 + class_id] = 1\n",
    "            elif target_tensor[b, grid_y, grid_x, 9] == 0:\n",
    "                target_tensor[b, grid_y, grid_x, 5:10] = torch.tensor([x_cell, y_cell, w, h, 1])\n",
    "                target_tensor[b, grid_y, grid_x, 10 + class_id] = 1\n",
    "\n",
    "    return target_tensor\n"
   ]
  },
  {
   "cell_type": "code",
   "execution_count": 12,
   "id": "8b309ae0",
   "metadata": {
    "execution": {
     "iopub.execute_input": "2025-05-26T07:32:04.704668Z",
     "iopub.status.busy": "2025-05-26T07:32:04.704257Z",
     "iopub.status.idle": "2025-05-26T07:32:04.709042Z",
     "shell.execute_reply": "2025-05-26T07:32:04.708503Z"
    },
    "id": "DI8g8H-S8Ptr",
    "papermill": {
     "duration": 0.026435,
     "end_time": "2025-05-26T07:32:04.710022",
     "exception": false,
     "start_time": "2025-05-26T07:32:04.683587",
     "status": "completed"
    },
    "tags": []
   },
   "outputs": [],
   "source": [
    "from tqdm import tqdm\n",
    "\n",
    "def train_one_epoch(model, loader, optimizer, criterion, device, epoch, total_epochs):\n",
    "    model.train()\n",
    "    running_loss = 0.0\n",
    "    loop = tqdm(enumerate(loader), total=len(loader), desc=f\"Epoch [{epoch+1}/{total_epochs}]\", leave=False)\n",
    "\n",
    "    for batch_idx, (imgs, targets) in loop:\n",
    "        imgs = torch.stack(imgs).to(device)\n",
    "        targets_encoded = encode_yolo_targets(targets, S=7, B=2, C=20).to(device)\n",
    "\n",
    "        preds = model(imgs)\n",
    "        loss = criterion(preds, targets_encoded)\n",
    "\n",
    "        optimizer.zero_grad()\n",
    "        loss.backward()\n",
    "        optimizer.step()\n",
    "\n",
    "        running_loss += loss.item()\n",
    "        avg_loss = running_loss / (batch_idx + 1)\n",
    "        loop.set_postfix(loss=loss.item(), avg_loss=avg_loss)\n"
   ]
  },
  {
   "cell_type": "code",
   "execution_count": 13,
   "id": "e5c883ba",
   "metadata": {
    "execution": {
     "iopub.execute_input": "2025-05-26T07:32:04.751229Z",
     "iopub.status.busy": "2025-05-26T07:32:04.750761Z",
     "iopub.status.idle": "2025-05-26T07:32:04.755478Z",
     "shell.execute_reply": "2025-05-26T07:32:04.755006Z"
    },
    "papermill": {
     "duration": 0.026216,
     "end_time": "2025-05-26T07:32:04.756475",
     "exception": false,
     "start_time": "2025-05-26T07:32:04.730259",
     "status": "completed"
    },
    "tags": []
   },
   "outputs": [],
   "source": [
    "from tqdm import tqdm\n",
    "\n",
    "def train_one_epoch(model, loader, optimizer, criterion, device, epoch, total_epochs):\n",
    "    model.train()\n",
    "    running_loss = 0.0\n",
    "    loop = tqdm(enumerate(loader), total=len(loader), desc=f\"Epoch [{epoch+1}/{total_epochs}]\", leave=False)\n",
    "\n",
    "    for batch_idx, (imgs, targets) in loop:\n",
    "        imgs = torch.stack(imgs).to(device)\n",
    "        targets_encoded = encode_yolo_targets(targets, S=7, B=2, C=20).to(device)\n",
    "\n",
    "        preds = model(imgs)\n",
    "        loss = criterion(preds, targets_encoded)\n",
    "\n",
    "        optimizer.zero_grad()\n",
    "        loss.backward()\n",
    "        optimizer.step()\n",
    "\n",
    "        running_loss += loss.item()\n",
    "        avg_loss = running_loss / (batch_idx + 1)\n",
    "        loop.set_postfix(loss=loss.item(), avg_loss=avg_loss)\n"
   ]
  },
  {
   "cell_type": "code",
   "execution_count": 14,
   "id": "e9265b98",
   "metadata": {
    "execution": {
     "iopub.execute_input": "2025-05-26T07:32:04.797557Z",
     "iopub.status.busy": "2025-05-26T07:32:04.797381Z",
     "iopub.status.idle": "2025-05-26T07:32:09.860851Z",
     "shell.execute_reply": "2025-05-26T07:32:09.860108Z"
    },
    "papermill": {
     "duration": 5.085992,
     "end_time": "2025-05-26T07:32:09.862571",
     "exception": false,
     "start_time": "2025-05-26T07:32:04.776579",
     "status": "completed"
    },
    "tags": []
   },
   "outputs": [],
   "source": [
    "#above code in the function \n",
    "from torchmetrics.detection.mean_ap import MeanAveragePrecision\n",
    "from torchvision.ops import box_iou\n",
    "\n",
    "def evaluate_map_score(model, loader, device, conf_threshold=0.2, iou_threshold=0.5):\n",
    "    model.eval()\n",
    "    map_metric = MeanAveragePrecision(iou_type=\"bbox\", iou_thresholds=[iou_threshold])\n",
    "\n",
    "    with torch.no_grad():\n",
    "        for imgs, targets in loader:\n",
    "            imgs = torch.stack(imgs).to(device)\n",
    "            outputs = model(imgs).cpu()\n",
    "\n",
    "            for i in range(len(outputs)):\n",
    "                pred = outputs[i]\n",
    "                boxes = []\n",
    "                scores = []\n",
    "                labels = []\n",
    "\n",
    "                for row in range(7):\n",
    "                    for col in range(7):\n",
    "                        cell = pred[row, col]\n",
    "                        class_probs = cell[10:]\n",
    "                        class_id = torch.argmax(class_probs).item()\n",
    "                        class_score = class_probs[class_id].item()\n",
    "\n",
    "                        for b in range(2):\n",
    "                            x, y, w, h, conf = cell[b*5:b*5+5]\n",
    "                            total_conf = conf.item() * class_score\n",
    "                            if total_conf > conf_threshold:\n",
    "                                cx = (col + x.item()) / 7\n",
    "                                cy = (row + y.item()) / 7\n",
    "                                bw = w.item()\n",
    "                                bh = h.item()\n",
    "                                x1 = cx - bw / 2\n",
    "                                y1 = cy - bh / 2\n",
    "                                x2 = cx + bw / 2\n",
    "                                y2 = cy + bh / 2\n",
    "                                boxes.append([x1 * 448, y1 * 448, x2 * 448, y2 * 448])\n",
    "                                scores.append(total_conf)\n",
    "                                labels.append(class_id)\n",
    "\n",
    "                preds = [{\n",
    "                    \"boxes\": torch.tensor(boxes),\n",
    "                    \"scores\": torch.tensor(scores),\n",
    "                    \"labels\": torch.tensor(labels)\n",
    "                }]\n",
    "\n",
    "                gts = [{\n",
    "                    \"boxes\": targets[i][\"boxes\"],\n",
    "                    \"labels\": targets[i][\"labels\"]\n",
    "                }]\n",
    "\n",
    "                map_metric.update(preds, gts)\n",
    "\n",
    "    results = map_metric.compute()\n",
    "    map_score = results[\"map_50\"].item()\n",
    "    return map_score\n"
   ]
  },
  {
   "cell_type": "code",
   "execution_count": 15,
   "id": "c3ea9daf",
   "metadata": {
    "execution": {
     "iopub.execute_input": "2025-05-26T07:32:09.909194Z",
     "iopub.status.busy": "2025-05-26T07:32:09.908608Z",
     "iopub.status.idle": "2025-05-26T11:42:18.306564Z",
     "shell.execute_reply": "2025-05-26T11:42:18.305836Z"
    },
    "papermill": {
     "duration": 15015.048976,
     "end_time": "2025-05-26T11:42:24.933616",
     "exception": false,
     "start_time": "2025-05-26T07:32:09.884640",
     "status": "completed"
    },
    "tags": []
   },
   "outputs": [
    {
     "name": "stdout",
     "output_type": "stream",
     "text": [
      "\n",
      "📘 Epoch 1/100\n"
     ]
    },
    {
     "name": "stderr",
     "output_type": "stream",
     "text": [
      "                                                                                          \r"
     ]
    },
    {
     "name": "stdout",
     "output_type": "stream",
     "text": [
      "🔍 mAP@0.5 this epoch   : 0.0111\n",
      "📈 Best mAP so far     : 0.0000\n",
      "📌 Epochs w/o improve  : 0/10\n",
      "✅ Model improved — saved as best_model.pth\n",
      "🔍 mAP@0.5 this epoch   : 0.0111\n",
      "📈 Best mAP so far     : 0.0111\n",
      "📌 Epochs w/o improve  : 0/10\n",
      "\n",
      "📘 Epoch 2/100\n"
     ]
    },
    {
     "name": "stderr",
     "output_type": "stream",
     "text": [
      "                                                                                          \r"
     ]
    },
    {
     "name": "stdout",
     "output_type": "stream",
     "text": [
      "🔍 mAP@0.5 this epoch   : 0.1500\n",
      "📈 Best mAP so far     : 0.0111\n",
      "📌 Epochs w/o improve  : 0/10\n",
      "✅ Model improved — saved as best_model.pth\n",
      "🔍 mAP@0.5 this epoch   : 0.1500\n",
      "📈 Best mAP so far     : 0.1500\n",
      "📌 Epochs w/o improve  : 0/10\n",
      "\n",
      "📘 Epoch 3/100\n"
     ]
    },
    {
     "name": "stderr",
     "output_type": "stream",
     "text": [
      "                                                                                          \r"
     ]
    },
    {
     "name": "stdout",
     "output_type": "stream",
     "text": [
      "🔍 mAP@0.5 this epoch   : 0.2262\n",
      "📈 Best mAP so far     : 0.1500\n",
      "📌 Epochs w/o improve  : 0/10\n",
      "✅ Model improved — saved as best_model.pth\n",
      "🔍 mAP@0.5 this epoch   : 0.2262\n",
      "📈 Best mAP so far     : 0.2262\n",
      "📌 Epochs w/o improve  : 0/10\n",
      "\n",
      "📘 Epoch 4/100\n"
     ]
    },
    {
     "name": "stderr",
     "output_type": "stream",
     "text": [
      "                                                                                            \r"
     ]
    },
    {
     "name": "stdout",
     "output_type": "stream",
     "text": [
      "🔍 mAP@0.5 this epoch   : 0.3074\n",
      "📈 Best mAP so far     : 0.2262\n",
      "📌 Epochs w/o improve  : 0/10\n",
      "✅ Model improved — saved as best_model.pth\n",
      "🔍 mAP@0.5 this epoch   : 0.3074\n",
      "📈 Best mAP so far     : 0.3074\n",
      "📌 Epochs w/o improve  : 0/10\n",
      "\n",
      "📘 Epoch 5/100\n"
     ]
    },
    {
     "name": "stderr",
     "output_type": "stream",
     "text": [
      "                                                                                          \r"
     ]
    },
    {
     "name": "stdout",
     "output_type": "stream",
     "text": [
      "🔍 mAP@0.5 this epoch   : 0.3953\n",
      "📈 Best mAP so far     : 0.3074\n",
      "📌 Epochs w/o improve  : 0/10\n",
      "✅ Model improved — saved as best_model.pth\n",
      "🔍 mAP@0.5 this epoch   : 0.3953\n",
      "📈 Best mAP so far     : 0.3953\n",
      "📌 Epochs w/o improve  : 0/10\n",
      "\n",
      "📘 Epoch 6/100\n"
     ]
    },
    {
     "name": "stderr",
     "output_type": "stream",
     "text": [
      "                                                                                            \r"
     ]
    },
    {
     "name": "stdout",
     "output_type": "stream",
     "text": [
      "🔍 mAP@0.5 this epoch   : 0.4925\n",
      "📈 Best mAP so far     : 0.3953\n",
      "📌 Epochs w/o improve  : 0/10\n",
      "✅ Model improved — saved as best_model.pth\n",
      "🔍 mAP@0.5 this epoch   : 0.4925\n",
      "📈 Best mAP so far     : 0.4925\n",
      "📌 Epochs w/o improve  : 0/10\n",
      "\n",
      "📘 Epoch 7/100\n"
     ]
    },
    {
     "name": "stderr",
     "output_type": "stream",
     "text": [
      "                                                                                            \r"
     ]
    },
    {
     "name": "stdout",
     "output_type": "stream",
     "text": [
      "🔍 mAP@0.5 this epoch   : 0.5983\n",
      "📈 Best mAP so far     : 0.4925\n",
      "📌 Epochs w/o improve  : 0/10\n",
      "✅ Model improved — saved as best_model.pth\n",
      "🔍 mAP@0.5 this epoch   : 0.5983\n",
      "📈 Best mAP so far     : 0.5983\n",
      "📌 Epochs w/o improve  : 0/10\n",
      "\n",
      "📘 Epoch 8/100\n"
     ]
    },
    {
     "name": "stderr",
     "output_type": "stream",
     "text": [
      "                                                                                            \r"
     ]
    },
    {
     "name": "stdout",
     "output_type": "stream",
     "text": [
      "🔍 mAP@0.5 this epoch   : 0.6253\n",
      "📈 Best mAP so far     : 0.5983\n",
      "📌 Epochs w/o improve  : 0/10\n",
      "✅ Model improved — saved as best_model.pth\n",
      "🔍 mAP@0.5 this epoch   : 0.6253\n",
      "📈 Best mAP so far     : 0.6253\n",
      "📌 Epochs w/o improve  : 0/10\n",
      "\n",
      "📘 Epoch 9/100\n"
     ]
    },
    {
     "name": "stderr",
     "output_type": "stream",
     "text": [
      "                                                                                            \r"
     ]
    },
    {
     "name": "stdout",
     "output_type": "stream",
     "text": [
      "🔍 mAP@0.5 this epoch   : 0.6099\n",
      "📈 Best mAP so far     : 0.6253\n",
      "📌 Epochs w/o improve  : 0/10\n",
      "⚠️  No improvement this epoch.\n",
      "🔍 mAP@0.5 this epoch   : 0.6099\n",
      "📈 Best mAP so far     : 0.6253\n",
      "📌 Epochs w/o improve  : 1/10\n",
      "\n",
      "📘 Epoch 10/100\n"
     ]
    },
    {
     "name": "stderr",
     "output_type": "stream",
     "text": [
      "                                                                                             \r"
     ]
    },
    {
     "name": "stdout",
     "output_type": "stream",
     "text": [
      "🔍 mAP@0.5 this epoch   : 0.6767\n",
      "📈 Best mAP so far     : 0.6253\n",
      "📌 Epochs w/o improve  : 1/10\n",
      "✅ Model improved — saved as best_model.pth\n",
      "🔍 mAP@0.5 this epoch   : 0.6767\n",
      "📈 Best mAP so far     : 0.6767\n",
      "📌 Epochs w/o improve  : 0/10\n",
      "\n",
      "📘 Epoch 11/100\n"
     ]
    },
    {
     "name": "stderr",
     "output_type": "stream",
     "text": [
      "                                                                                              \r"
     ]
    },
    {
     "name": "stdout",
     "output_type": "stream",
     "text": [
      "🔍 mAP@0.5 this epoch   : 0.6899\n",
      "📈 Best mAP so far     : 0.6767\n",
      "📌 Epochs w/o improve  : 0/10\n",
      "✅ Model improved — saved as best_model.pth\n",
      "🔍 mAP@0.5 this epoch   : 0.6899\n",
      "📈 Best mAP so far     : 0.6899\n",
      "📌 Epochs w/o improve  : 0/10\n",
      "\n",
      "📘 Epoch 12/100\n"
     ]
    },
    {
     "name": "stderr",
     "output_type": "stream",
     "text": [
      "                                                                                             \r"
     ]
    },
    {
     "name": "stdout",
     "output_type": "stream",
     "text": [
      "🔍 mAP@0.5 this epoch   : 0.6901\n",
      "📈 Best mAP so far     : 0.6899\n",
      "📌 Epochs w/o improve  : 0/10\n",
      "✅ Model improved — saved as best_model.pth\n",
      "🔍 mAP@0.5 this epoch   : 0.6901\n",
      "📈 Best mAP so far     : 0.6901\n",
      "📌 Epochs w/o improve  : 0/10\n",
      "\n",
      "📘 Epoch 13/100\n"
     ]
    },
    {
     "name": "stderr",
     "output_type": "stream",
     "text": [
      "                                                                                            \r"
     ]
    },
    {
     "name": "stdout",
     "output_type": "stream",
     "text": [
      "🔍 mAP@0.5 this epoch   : 0.7130\n",
      "📈 Best mAP so far     : 0.6901\n",
      "📌 Epochs w/o improve  : 0/10\n",
      "✅ Model improved — saved as best_model.pth\n",
      "🔍 mAP@0.5 this epoch   : 0.7130\n",
      "📈 Best mAP so far     : 0.7130\n",
      "📌 Epochs w/o improve  : 0/10\n",
      "\n",
      "📘 Epoch 14/100\n"
     ]
    },
    {
     "name": "stderr",
     "output_type": "stream",
     "text": [
      "                                                                                             \r"
     ]
    },
    {
     "name": "stdout",
     "output_type": "stream",
     "text": [
      "🔍 mAP@0.5 this epoch   : 0.7284\n",
      "📈 Best mAP so far     : 0.7130\n",
      "📌 Epochs w/o improve  : 0/10\n",
      "✅ Model improved — saved as best_model.pth\n",
      "🔍 mAP@0.5 this epoch   : 0.7284\n",
      "📈 Best mAP so far     : 0.7284\n",
      "📌 Epochs w/o improve  : 0/10\n",
      "\n",
      "📘 Epoch 15/100\n"
     ]
    },
    {
     "name": "stderr",
     "output_type": "stream",
     "text": [
      "                                                                                             \r"
     ]
    },
    {
     "name": "stdout",
     "output_type": "stream",
     "text": [
      "🔍 mAP@0.5 this epoch   : 0.7584\n",
      "📈 Best mAP so far     : 0.7284\n",
      "📌 Epochs w/o improve  : 0/10\n",
      "✅ Model improved — saved as best_model.pth\n",
      "🔍 mAP@0.5 this epoch   : 0.7584\n",
      "📈 Best mAP so far     : 0.7584\n",
      "📌 Epochs w/o improve  : 0/10\n",
      "\n",
      "📘 Epoch 16/100\n"
     ]
    },
    {
     "name": "stderr",
     "output_type": "stream",
     "text": [
      "                                                                                             \r"
     ]
    },
    {
     "name": "stdout",
     "output_type": "stream",
     "text": [
      "🔍 mAP@0.5 this epoch   : 0.7191\n",
      "📈 Best mAP so far     : 0.7584\n",
      "📌 Epochs w/o improve  : 0/10\n",
      "⚠️  No improvement this epoch.\n",
      "🔍 mAP@0.5 this epoch   : 0.7191\n",
      "📈 Best mAP so far     : 0.7584\n",
      "📌 Epochs w/o improve  : 1/10\n",
      "\n",
      "📘 Epoch 17/100\n"
     ]
    },
    {
     "name": "stderr",
     "output_type": "stream",
     "text": [
      "                                                                                             \r"
     ]
    },
    {
     "name": "stdout",
     "output_type": "stream",
     "text": [
      "🔍 mAP@0.5 this epoch   : 0.7732\n",
      "📈 Best mAP so far     : 0.7584\n",
      "📌 Epochs w/o improve  : 1/10\n",
      "✅ Model improved — saved as best_model.pth\n",
      "🔍 mAP@0.5 this epoch   : 0.7732\n",
      "📈 Best mAP so far     : 0.7732\n",
      "📌 Epochs w/o improve  : 0/10\n",
      "\n",
      "📘 Epoch 18/100\n"
     ]
    },
    {
     "name": "stderr",
     "output_type": "stream",
     "text": [
      "                                                                                              \r"
     ]
    },
    {
     "name": "stdout",
     "output_type": "stream",
     "text": [
      "🔍 mAP@0.5 this epoch   : 0.7548\n",
      "📈 Best mAP so far     : 0.7732\n",
      "📌 Epochs w/o improve  : 0/10\n",
      "⚠️  No improvement this epoch.\n",
      "🔍 mAP@0.5 this epoch   : 0.7548\n",
      "📈 Best mAP so far     : 0.7732\n",
      "📌 Epochs w/o improve  : 1/10\n",
      "\n",
      "📘 Epoch 19/100\n"
     ]
    },
    {
     "name": "stderr",
     "output_type": "stream",
     "text": [
      "                                                                                             \r"
     ]
    },
    {
     "name": "stdout",
     "output_type": "stream",
     "text": [
      "🔍 mAP@0.5 this epoch   : 0.7986\n",
      "📈 Best mAP so far     : 0.7732\n",
      "📌 Epochs w/o improve  : 1/10\n",
      "✅ Model improved — saved as best_model.pth\n",
      "🔍 mAP@0.5 this epoch   : 0.7986\n",
      "📈 Best mAP so far     : 0.7986\n",
      "📌 Epochs w/o improve  : 0/10\n",
      "\n",
      "📘 Epoch 20/100\n"
     ]
    },
    {
     "name": "stderr",
     "output_type": "stream",
     "text": [
      "                                                                                              \r"
     ]
    },
    {
     "name": "stdout",
     "output_type": "stream",
     "text": [
      "🔍 mAP@0.5 this epoch   : 0.7765\n",
      "📈 Best mAP so far     : 0.7986\n",
      "📌 Epochs w/o improve  : 0/10\n",
      "⚠️  No improvement this epoch.\n",
      "🔍 mAP@0.5 this epoch   : 0.7765\n",
      "📈 Best mAP so far     : 0.7986\n",
      "📌 Epochs w/o improve  : 1/10\n",
      "\n",
      "📘 Epoch 21/100\n"
     ]
    },
    {
     "name": "stderr",
     "output_type": "stream",
     "text": [
      "                                                                                              \r"
     ]
    },
    {
     "name": "stdout",
     "output_type": "stream",
     "text": [
      "🔍 mAP@0.5 this epoch   : 0.7904\n",
      "📈 Best mAP so far     : 0.7986\n",
      "📌 Epochs w/o improve  : 1/10\n",
      "⚠️  No improvement this epoch.\n",
      "🔍 mAP@0.5 this epoch   : 0.7904\n",
      "📈 Best mAP so far     : 0.7986\n",
      "📌 Epochs w/o improve  : 2/10\n",
      "\n",
      "📘 Epoch 22/100\n"
     ]
    },
    {
     "name": "stderr",
     "output_type": "stream",
     "text": [
      "                                                                                              \r"
     ]
    },
    {
     "name": "stdout",
     "output_type": "stream",
     "text": [
      "🔍 mAP@0.5 this epoch   : 0.8068\n",
      "📈 Best mAP so far     : 0.7986\n",
      "📌 Epochs w/o improve  : 2/10\n",
      "✅ Model improved — saved as best_model.pth\n",
      "🔍 mAP@0.5 this epoch   : 0.8068\n",
      "📈 Best mAP so far     : 0.8068\n",
      "📌 Epochs w/o improve  : 0/10\n",
      "\n",
      "📘 Epoch 23/100\n"
     ]
    },
    {
     "name": "stderr",
     "output_type": "stream",
     "text": [
      "                                                                                             \r"
     ]
    },
    {
     "name": "stdout",
     "output_type": "stream",
     "text": [
      "🔍 mAP@0.5 this epoch   : 0.7976\n",
      "📈 Best mAP so far     : 0.8068\n",
      "📌 Epochs w/o improve  : 0/10\n",
      "⚠️  No improvement this epoch.\n",
      "🔍 mAP@0.5 this epoch   : 0.7976\n",
      "📈 Best mAP so far     : 0.8068\n",
      "📌 Epochs w/o improve  : 1/10\n",
      "\n",
      "📘 Epoch 24/100\n"
     ]
    },
    {
     "name": "stderr",
     "output_type": "stream",
     "text": [
      "                                                                                               \r"
     ]
    },
    {
     "name": "stdout",
     "output_type": "stream",
     "text": [
      "🔍 mAP@0.5 this epoch   : 0.8131\n",
      "📈 Best mAP so far     : 0.8068\n",
      "📌 Epochs w/o improve  : 1/10\n",
      "✅ Model improved — saved as best_model.pth\n",
      "🔍 mAP@0.5 this epoch   : 0.8131\n",
      "📈 Best mAP so far     : 0.8131\n",
      "📌 Epochs w/o improve  : 0/10\n",
      "\n",
      "📘 Epoch 25/100\n"
     ]
    },
    {
     "name": "stderr",
     "output_type": "stream",
     "text": [
      "                                                                                            \r"
     ]
    },
    {
     "name": "stdout",
     "output_type": "stream",
     "text": [
      "🔍 mAP@0.5 this epoch   : 0.6767\n",
      "📈 Best mAP so far     : 0.8131\n",
      "📌 Epochs w/o improve  : 0/10\n",
      "⚠️  No improvement this epoch.\n",
      "🔍 mAP@0.5 this epoch   : 0.6767\n",
      "📈 Best mAP so far     : 0.8131\n",
      "📌 Epochs w/o improve  : 1/10\n",
      "\n",
      "📘 Epoch 26/100\n"
     ]
    },
    {
     "name": "stderr",
     "output_type": "stream",
     "text": [
      "                                                                                              \r"
     ]
    },
    {
     "name": "stdout",
     "output_type": "stream",
     "text": [
      "🔍 mAP@0.5 this epoch   : 0.8049\n",
      "📈 Best mAP so far     : 0.8131\n",
      "📌 Epochs w/o improve  : 1/10\n",
      "⚠️  No improvement this epoch.\n",
      "🔍 mAP@0.5 this epoch   : 0.8049\n",
      "📈 Best mAP so far     : 0.8131\n",
      "📌 Epochs w/o improve  : 2/10\n",
      "\n",
      "📘 Epoch 27/100\n"
     ]
    },
    {
     "name": "stderr",
     "output_type": "stream",
     "text": [
      "                                                                                              \r"
     ]
    },
    {
     "name": "stdout",
     "output_type": "stream",
     "text": [
      "🔍 mAP@0.5 this epoch   : 0.8040\n",
      "📈 Best mAP so far     : 0.8131\n",
      "📌 Epochs w/o improve  : 2/10\n",
      "⚠️  No improvement this epoch.\n",
      "🔍 mAP@0.5 this epoch   : 0.8040\n",
      "📈 Best mAP so far     : 0.8131\n",
      "📌 Epochs w/o improve  : 3/10\n",
      "\n",
      "📘 Epoch 28/100\n"
     ]
    },
    {
     "name": "stderr",
     "output_type": "stream",
     "text": [
      "                                                                                              \r"
     ]
    },
    {
     "name": "stdout",
     "output_type": "stream",
     "text": [
      "🔍 mAP@0.5 this epoch   : 0.7893\n",
      "📈 Best mAP so far     : 0.8131\n",
      "📌 Epochs w/o improve  : 3/10\n",
      "⚠️  No improvement this epoch.\n",
      "🔍 mAP@0.5 this epoch   : 0.7893\n",
      "📈 Best mAP so far     : 0.8131\n",
      "📌 Epochs w/o improve  : 4/10\n",
      "\n",
      "📘 Epoch 29/100\n"
     ]
    },
    {
     "name": "stderr",
     "output_type": "stream",
     "text": [
      "                                                                                               \r"
     ]
    },
    {
     "name": "stdout",
     "output_type": "stream",
     "text": [
      "🔍 mAP@0.5 this epoch   : 0.8000\n",
      "📈 Best mAP so far     : 0.8131\n",
      "📌 Epochs w/o improve  : 4/10\n",
      "⚠️  No improvement this epoch.\n",
      "🔍 mAP@0.5 this epoch   : 0.8000\n",
      "📈 Best mAP so far     : 0.8131\n",
      "📌 Epochs w/o improve  : 5/10\n",
      "\n",
      "📘 Epoch 30/100\n"
     ]
    },
    {
     "name": "stderr",
     "output_type": "stream",
     "text": [
      "                                                                                               \r"
     ]
    },
    {
     "name": "stdout",
     "output_type": "stream",
     "text": [
      "🔍 mAP@0.5 this epoch   : 0.8109\n",
      "📈 Best mAP so far     : 0.8131\n",
      "📌 Epochs w/o improve  : 5/10\n",
      "⚠️  No improvement this epoch.\n",
      "🔍 mAP@0.5 this epoch   : 0.8109\n",
      "📈 Best mAP so far     : 0.8131\n",
      "📌 Epochs w/o improve  : 6/10\n",
      "\n",
      "📘 Epoch 31/100\n"
     ]
    },
    {
     "name": "stderr",
     "output_type": "stream",
     "text": [
      "                                                                                              \r"
     ]
    },
    {
     "name": "stdout",
     "output_type": "stream",
     "text": [
      "🔍 mAP@0.5 this epoch   : 0.8127\n",
      "📈 Best mAP so far     : 0.8131\n",
      "📌 Epochs w/o improve  : 6/10\n",
      "⚠️  No improvement this epoch.\n",
      "🔍 mAP@0.5 this epoch   : 0.8127\n",
      "📈 Best mAP so far     : 0.8131\n",
      "📌 Epochs w/o improve  : 7/10\n",
      "\n",
      "📘 Epoch 32/100\n"
     ]
    },
    {
     "name": "stderr",
     "output_type": "stream",
     "text": [
      "                                                                                               \r"
     ]
    },
    {
     "name": "stdout",
     "output_type": "stream",
     "text": [
      "🔍 mAP@0.5 this epoch   : 0.6864\n",
      "📈 Best mAP so far     : 0.8131\n",
      "📌 Epochs w/o improve  : 7/10\n",
      "⚠️  No improvement this epoch.\n",
      "🔍 mAP@0.5 this epoch   : 0.6864\n",
      "📈 Best mAP so far     : 0.8131\n",
      "📌 Epochs w/o improve  : 8/10\n",
      "\n",
      "📘 Epoch 33/100\n"
     ]
    },
    {
     "name": "stderr",
     "output_type": "stream",
     "text": [
      "                                                                                               \r"
     ]
    },
    {
     "name": "stdout",
     "output_type": "stream",
     "text": [
      "🔍 mAP@0.5 this epoch   : 0.8230\n",
      "📈 Best mAP so far     : 0.8131\n",
      "📌 Epochs w/o improve  : 8/10\n",
      "✅ Model improved — saved as best_model.pth\n",
      "🔍 mAP@0.5 this epoch   : 0.8230\n",
      "📈 Best mAP so far     : 0.8230\n",
      "📌 Epochs w/o improve  : 0/10\n",
      "\n",
      "📘 Epoch 34/100\n"
     ]
    },
    {
     "name": "stderr",
     "output_type": "stream",
     "text": [
      "                                                                                               \r"
     ]
    },
    {
     "name": "stdout",
     "output_type": "stream",
     "text": [
      "🔍 mAP@0.5 this epoch   : 0.8076\n",
      "📈 Best mAP so far     : 0.8230\n",
      "📌 Epochs w/o improve  : 0/10\n",
      "⚠️  No improvement this epoch.\n",
      "🔍 mAP@0.5 this epoch   : 0.8076\n",
      "📈 Best mAP so far     : 0.8230\n",
      "📌 Epochs w/o improve  : 1/10\n",
      "\n",
      "📘 Epoch 35/100\n"
     ]
    },
    {
     "name": "stderr",
     "output_type": "stream",
     "text": [
      "                                                                                               \r"
     ]
    },
    {
     "name": "stdout",
     "output_type": "stream",
     "text": [
      "🔍 mAP@0.5 this epoch   : 0.8271\n",
      "📈 Best mAP so far     : 0.8230\n",
      "📌 Epochs w/o improve  : 1/10\n",
      "✅ Model improved — saved as best_model.pth\n",
      "🔍 mAP@0.5 this epoch   : 0.8271\n",
      "📈 Best mAP so far     : 0.8271\n",
      "📌 Epochs w/o improve  : 0/10\n",
      "\n",
      "📘 Epoch 36/100\n"
     ]
    },
    {
     "name": "stderr",
     "output_type": "stream",
     "text": [
      "                                                                                             \r"
     ]
    },
    {
     "name": "stdout",
     "output_type": "stream",
     "text": [
      "🔍 mAP@0.5 this epoch   : 0.8269\n",
      "📈 Best mAP so far     : 0.8271\n",
      "📌 Epochs w/o improve  : 0/10\n",
      "⚠️  No improvement this epoch.\n",
      "🔍 mAP@0.5 this epoch   : 0.8269\n",
      "📈 Best mAP so far     : 0.8271\n",
      "📌 Epochs w/o improve  : 1/10\n",
      "\n",
      "📘 Epoch 37/100\n"
     ]
    },
    {
     "name": "stderr",
     "output_type": "stream",
     "text": [
      "                                                                                               \r"
     ]
    },
    {
     "name": "stdout",
     "output_type": "stream",
     "text": [
      "🔍 mAP@0.5 this epoch   : 0.8147\n",
      "📈 Best mAP so far     : 0.8271\n",
      "📌 Epochs w/o improve  : 1/10\n",
      "⚠️  No improvement this epoch.\n",
      "🔍 mAP@0.5 this epoch   : 0.8147\n",
      "📈 Best mAP so far     : 0.8271\n",
      "📌 Epochs w/o improve  : 2/10\n",
      "\n",
      "📘 Epoch 38/100\n"
     ]
    },
    {
     "name": "stderr",
     "output_type": "stream",
     "text": [
      "                                                                                               \r"
     ]
    },
    {
     "name": "stdout",
     "output_type": "stream",
     "text": [
      "🔍 mAP@0.5 this epoch   : 0.8248\n",
      "📈 Best mAP so far     : 0.8271\n",
      "📌 Epochs w/o improve  : 2/10\n",
      "⚠️  No improvement this epoch.\n",
      "🔍 mAP@0.5 this epoch   : 0.8248\n",
      "📈 Best mAP so far     : 0.8271\n",
      "📌 Epochs w/o improve  : 3/10\n",
      "\n",
      "📘 Epoch 39/100\n"
     ]
    },
    {
     "name": "stderr",
     "output_type": "stream",
     "text": [
      "                                                                                              \r"
     ]
    },
    {
     "name": "stdout",
     "output_type": "stream",
     "text": [
      "🔍 mAP@0.5 this epoch   : 0.8336\n",
      "📈 Best mAP so far     : 0.8271\n",
      "📌 Epochs w/o improve  : 3/10\n",
      "✅ Model improved — saved as best_model.pth\n",
      "🔍 mAP@0.5 this epoch   : 0.8336\n",
      "📈 Best mAP so far     : 0.8336\n",
      "📌 Epochs w/o improve  : 0/10\n",
      "\n",
      "📘 Epoch 40/100\n"
     ]
    },
    {
     "name": "stderr",
     "output_type": "stream",
     "text": [
      "                                                                                               \r"
     ]
    },
    {
     "name": "stdout",
     "output_type": "stream",
     "text": [
      "🔍 mAP@0.5 this epoch   : 0.8398\n",
      "📈 Best mAP so far     : 0.8336\n",
      "📌 Epochs w/o improve  : 0/10\n",
      "✅ Model improved — saved as best_model.pth\n",
      "🔍 mAP@0.5 this epoch   : 0.8398\n",
      "📈 Best mAP so far     : 0.8398\n",
      "📌 Epochs w/o improve  : 0/10\n",
      "\n",
      "📘 Epoch 41/100\n"
     ]
    },
    {
     "name": "stderr",
     "output_type": "stream",
     "text": [
      "                                                                                               \r"
     ]
    },
    {
     "name": "stdout",
     "output_type": "stream",
     "text": [
      "🔍 mAP@0.5 this epoch   : 0.8382\n",
      "📈 Best mAP so far     : 0.8398\n",
      "📌 Epochs w/o improve  : 0/10\n",
      "⚠️  No improvement this epoch.\n",
      "🔍 mAP@0.5 this epoch   : 0.8382\n",
      "📈 Best mAP so far     : 0.8398\n",
      "📌 Epochs w/o improve  : 1/10\n",
      "\n",
      "📘 Epoch 42/100\n"
     ]
    },
    {
     "name": "stderr",
     "output_type": "stream",
     "text": [
      "                                                                                               \r"
     ]
    },
    {
     "name": "stdout",
     "output_type": "stream",
     "text": [
      "🔍 mAP@0.5 this epoch   : 0.7041\n",
      "📈 Best mAP so far     : 0.8398\n",
      "📌 Epochs w/o improve  : 1/10\n",
      "⚠️  No improvement this epoch.\n",
      "🔍 mAP@0.5 this epoch   : 0.7041\n",
      "📈 Best mAP so far     : 0.8398\n",
      "📌 Epochs w/o improve  : 2/10\n",
      "\n",
      "📘 Epoch 43/100\n"
     ]
    },
    {
     "name": "stderr",
     "output_type": "stream",
     "text": [
      "                                                                                               \r"
     ]
    },
    {
     "name": "stdout",
     "output_type": "stream",
     "text": [
      "🔍 mAP@0.5 this epoch   : 0.8392\n",
      "📈 Best mAP so far     : 0.8398\n",
      "📌 Epochs w/o improve  : 2/10\n",
      "⚠️  No improvement this epoch.\n",
      "🔍 mAP@0.5 this epoch   : 0.8392\n",
      "📈 Best mAP so far     : 0.8398\n",
      "📌 Epochs w/o improve  : 3/10\n",
      "\n",
      "📘 Epoch 44/100\n"
     ]
    },
    {
     "name": "stderr",
     "output_type": "stream",
     "text": [
      "                                                                                                \r"
     ]
    },
    {
     "name": "stdout",
     "output_type": "stream",
     "text": [
      "🔍 mAP@0.5 this epoch   : 0.8419\n",
      "📈 Best mAP so far     : 0.8398\n",
      "📌 Epochs w/o improve  : 3/10\n",
      "✅ Model improved — saved as best_model.pth\n",
      "🔍 mAP@0.5 this epoch   : 0.8419\n",
      "📈 Best mAP so far     : 0.8419\n",
      "📌 Epochs w/o improve  : 0/10\n",
      "\n",
      "📘 Epoch 45/100\n"
     ]
    },
    {
     "name": "stderr",
     "output_type": "stream",
     "text": [
      "                                                                                              \r"
     ]
    },
    {
     "name": "stdout",
     "output_type": "stream",
     "text": [
      "🔍 mAP@0.5 this epoch   : 0.8464\n",
      "📈 Best mAP so far     : 0.8419\n",
      "📌 Epochs w/o improve  : 0/10\n",
      "✅ Model improved — saved as best_model.pth\n",
      "🔍 mAP@0.5 this epoch   : 0.8464\n",
      "📈 Best mAP so far     : 0.8464\n",
      "📌 Epochs w/o improve  : 0/10\n",
      "\n",
      "📘 Epoch 46/100\n"
     ]
    },
    {
     "name": "stderr",
     "output_type": "stream",
     "text": [
      "                                                                                               \r"
     ]
    },
    {
     "name": "stdout",
     "output_type": "stream",
     "text": [
      "🔍 mAP@0.5 this epoch   : 0.8434\n",
      "📈 Best mAP so far     : 0.8464\n",
      "📌 Epochs w/o improve  : 0/10\n",
      "⚠️  No improvement this epoch.\n",
      "🔍 mAP@0.5 this epoch   : 0.8434\n",
      "📈 Best mAP so far     : 0.8464\n",
      "📌 Epochs w/o improve  : 1/10\n",
      "\n",
      "📘 Epoch 47/100\n"
     ]
    },
    {
     "name": "stderr",
     "output_type": "stream",
     "text": [
      "                                                                                               \r"
     ]
    },
    {
     "name": "stdout",
     "output_type": "stream",
     "text": [
      "🔍 mAP@0.5 this epoch   : 0.8334\n",
      "📈 Best mAP so far     : 0.8464\n",
      "📌 Epochs w/o improve  : 1/10\n",
      "⚠️  No improvement this epoch.\n",
      "🔍 mAP@0.5 this epoch   : 0.8334\n",
      "📈 Best mAP so far     : 0.8464\n",
      "📌 Epochs w/o improve  : 2/10\n",
      "\n",
      "📘 Epoch 48/100\n"
     ]
    },
    {
     "name": "stderr",
     "output_type": "stream",
     "text": [
      "                                                                                               \r"
     ]
    },
    {
     "name": "stdout",
     "output_type": "stream",
     "text": [
      "🔍 mAP@0.5 this epoch   : 0.8472\n",
      "📈 Best mAP so far     : 0.8464\n",
      "📌 Epochs w/o improve  : 2/10\n",
      "✅ Model improved — saved as best_model.pth\n",
      "🔍 mAP@0.5 this epoch   : 0.8472\n",
      "📈 Best mAP so far     : 0.8472\n",
      "📌 Epochs w/o improve  : 0/10\n",
      "\n",
      "📘 Epoch 49/100\n"
     ]
    },
    {
     "name": "stderr",
     "output_type": "stream",
     "text": [
      "                                                                                               \r"
     ]
    },
    {
     "name": "stdout",
     "output_type": "stream",
     "text": [
      "🔍 mAP@0.5 this epoch   : 0.8437\n",
      "📈 Best mAP so far     : 0.8472\n",
      "📌 Epochs w/o improve  : 0/10\n",
      "⚠️  No improvement this epoch.\n",
      "🔍 mAP@0.5 this epoch   : 0.8437\n",
      "📈 Best mAP so far     : 0.8472\n",
      "📌 Epochs w/o improve  : 1/10\n",
      "\n",
      "📘 Epoch 50/100\n"
     ]
    },
    {
     "name": "stderr",
     "output_type": "stream",
     "text": [
      "                                                                                                \r"
     ]
    },
    {
     "name": "stdout",
     "output_type": "stream",
     "text": [
      "🔍 mAP@0.5 this epoch   : 0.8579\n",
      "📈 Best mAP so far     : 0.8472\n",
      "📌 Epochs w/o improve  : 1/10\n",
      "✅ Model improved — saved as best_model.pth\n",
      "🔍 mAP@0.5 this epoch   : 0.8579\n",
      "📈 Best mAP so far     : 0.8579\n",
      "📌 Epochs w/o improve  : 0/10\n",
      "\n",
      "📘 Epoch 51/100\n"
     ]
    },
    {
     "name": "stderr",
     "output_type": "stream",
     "text": [
      "                                                                                              \r"
     ]
    },
    {
     "name": "stdout",
     "output_type": "stream",
     "text": [
      "🔍 mAP@0.5 this epoch   : 0.8425\n",
      "📈 Best mAP so far     : 0.8579\n",
      "📌 Epochs w/o improve  : 0/10\n",
      "⚠️  No improvement this epoch.\n",
      "🔍 mAP@0.5 this epoch   : 0.8425\n",
      "📈 Best mAP so far     : 0.8579\n",
      "📌 Epochs w/o improve  : 1/10\n",
      "\n",
      "📘 Epoch 52/100\n"
     ]
    },
    {
     "name": "stderr",
     "output_type": "stream",
     "text": [
      "                                                                                               \r"
     ]
    },
    {
     "name": "stdout",
     "output_type": "stream",
     "text": [
      "🔍 mAP@0.5 this epoch   : 0.8296\n",
      "📈 Best mAP so far     : 0.8579\n",
      "📌 Epochs w/o improve  : 1/10\n",
      "⚠️  No improvement this epoch.\n",
      "🔍 mAP@0.5 this epoch   : 0.8296\n",
      "📈 Best mAP so far     : 0.8579\n",
      "📌 Epochs w/o improve  : 2/10\n",
      "\n",
      "📘 Epoch 53/100\n"
     ]
    },
    {
     "name": "stderr",
     "output_type": "stream",
     "text": [
      "                                                                                               \r"
     ]
    },
    {
     "name": "stdout",
     "output_type": "stream",
     "text": [
      "🔍 mAP@0.5 this epoch   : 0.7474\n",
      "📈 Best mAP so far     : 0.8579\n",
      "📌 Epochs w/o improve  : 2/10\n",
      "⚠️  No improvement this epoch.\n",
      "🔍 mAP@0.5 this epoch   : 0.7474\n",
      "📈 Best mAP so far     : 0.8579\n",
      "📌 Epochs w/o improve  : 3/10\n",
      "\n",
      "📘 Epoch 54/100\n"
     ]
    },
    {
     "name": "stderr",
     "output_type": "stream",
     "text": [
      "                                                                                               \r"
     ]
    },
    {
     "name": "stdout",
     "output_type": "stream",
     "text": [
      "🔍 mAP@0.5 this epoch   : 0.8170\n",
      "📈 Best mAP so far     : 0.8579\n",
      "📌 Epochs w/o improve  : 3/10\n",
      "⚠️  No improvement this epoch.\n",
      "🔍 mAP@0.5 this epoch   : 0.8170\n",
      "📈 Best mAP so far     : 0.8579\n",
      "📌 Epochs w/o improve  : 4/10\n",
      "\n",
      "📘 Epoch 55/100\n"
     ]
    },
    {
     "name": "stderr",
     "output_type": "stream",
     "text": [
      "                                                                                              \r"
     ]
    },
    {
     "name": "stdout",
     "output_type": "stream",
     "text": [
      "🔍 mAP@0.5 this epoch   : 0.8371\n",
      "📈 Best mAP so far     : 0.8579\n",
      "📌 Epochs w/o improve  : 4/10\n",
      "⚠️  No improvement this epoch.\n",
      "🔍 mAP@0.5 this epoch   : 0.8371\n",
      "📈 Best mAP so far     : 0.8579\n",
      "📌 Epochs w/o improve  : 5/10\n",
      "\n",
      "📘 Epoch 56/100\n"
     ]
    },
    {
     "name": "stderr",
     "output_type": "stream",
     "text": [
      "                                                                                               \r"
     ]
    },
    {
     "name": "stdout",
     "output_type": "stream",
     "text": [
      "🔍 mAP@0.5 this epoch   : 0.8358\n",
      "📈 Best mAP so far     : 0.8579\n",
      "📌 Epochs w/o improve  : 5/10\n",
      "⚠️  No improvement this epoch.\n",
      "🔍 mAP@0.5 this epoch   : 0.8358\n",
      "📈 Best mAP so far     : 0.8579\n",
      "📌 Epochs w/o improve  : 6/10\n",
      "\n",
      "📘 Epoch 57/100\n"
     ]
    },
    {
     "name": "stderr",
     "output_type": "stream",
     "text": [
      "                                                                                               \r"
     ]
    },
    {
     "name": "stdout",
     "output_type": "stream",
     "text": [
      "🔍 mAP@0.5 this epoch   : 0.8307\n",
      "📈 Best mAP so far     : 0.8579\n",
      "📌 Epochs w/o improve  : 6/10\n",
      "⚠️  No improvement this epoch.\n",
      "🔍 mAP@0.5 this epoch   : 0.8307\n",
      "📈 Best mAP so far     : 0.8579\n",
      "📌 Epochs w/o improve  : 7/10\n",
      "\n",
      "📘 Epoch 58/100\n"
     ]
    },
    {
     "name": "stderr",
     "output_type": "stream",
     "text": [
      "                                                                                              \r"
     ]
    },
    {
     "name": "stdout",
     "output_type": "stream",
     "text": [
      "🔍 mAP@0.5 this epoch   : 0.8294\n",
      "📈 Best mAP so far     : 0.8579\n",
      "📌 Epochs w/o improve  : 7/10\n",
      "⚠️  No improvement this epoch.\n",
      "🔍 mAP@0.5 this epoch   : 0.8294\n",
      "📈 Best mAP so far     : 0.8579\n",
      "📌 Epochs w/o improve  : 8/10\n",
      "\n",
      "📘 Epoch 59/100\n"
     ]
    },
    {
     "name": "stderr",
     "output_type": "stream",
     "text": [
      "                                                                                              \r"
     ]
    },
    {
     "name": "stdout",
     "output_type": "stream",
     "text": [
      "🔍 mAP@0.5 this epoch   : 0.8119\n",
      "📈 Best mAP so far     : 0.8579\n",
      "📌 Epochs w/o improve  : 8/10\n",
      "⚠️  No improvement this epoch.\n",
      "🔍 mAP@0.5 this epoch   : 0.8119\n",
      "📈 Best mAP so far     : 0.8579\n",
      "📌 Epochs w/o improve  : 9/10\n",
      "\n",
      "📘 Epoch 60/100\n"
     ]
    },
    {
     "name": "stderr",
     "output_type": "stream",
     "text": [
      "                                                                                               \r"
     ]
    },
    {
     "name": "stdout",
     "output_type": "stream",
     "text": [
      "🔍 mAP@0.5 this epoch   : 0.8334\n",
      "📈 Best mAP so far     : 0.8579\n",
      "📌 Epochs w/o improve  : 9/10\n",
      "⚠️  No improvement this epoch.\n",
      "\n",
      "⏹️ Early stopping triggered — no improvement for 10 epochs.\n"
     ]
    }
   ],
   "source": [
    "best_map = 0\n",
    "patience = 10\n",
    "epochs_since_improvement = 0\n",
    "\n",
    "total_epochs = 100\n",
    "\n",
    "for epoch in range(total_epochs):\n",
    "    print(f\"\\n📘 Epoch {epoch+1}/{total_epochs}\")\n",
    "\n",
    "    # Train\n",
    "    train_one_epoch(model, loader, optimizer, criterion, device, epoch, total_epochs)\n",
    "\n",
    "    # Evaluate\n",
    "    map_score = evaluate_map_score(model, loader, device, conf_threshold=0.2, iou_threshold=0.5)\n",
    "\n",
    "    # Logging\n",
    "    print(f\"🔍 mAP@0.5 this epoch   : {map_score:.4f}\")\n",
    "    print(f\"📈 Best mAP so far     : {best_map:.4f}\")\n",
    "    print(f\"📌 Epochs w/o improve  : {epochs_since_improvement}/{patience}\")\n",
    "\n",
    "    if map_score > best_map:\n",
    "        best_map = map_score\n",
    "        epochs_since_improvement = 0\n",
    "        torch.save(model.state_dict(), \"best_model_new.pth\")\n",
    "        print(\"✅ Model improved — saved as best_model.pth\")\n",
    "    else:\n",
    "        epochs_since_improvement += 1\n",
    "        print(\"⚠️  No improvement this epoch.\")\n",
    "\n",
    "    if epochs_since_improvement >= patience:\n",
    "        print(\"\\n⏹️ Early stopping triggered — no improvement for\", patience, \"epochs.\")\n",
    "        break\n",
    "     # Logging\n",
    "    print(f\"🔍 mAP@0.5 this epoch   : {map_score:.4f}\")\n",
    "    print(f\"📈 Best mAP so far     : {best_map:.4f}\")\n",
    "    print(f\"📌 Epochs w/o improve  : {epochs_since_improvement}/{patience}\")"
   ]
  },
  {
   "cell_type": "code",
   "execution_count": null,
   "id": "67e862be",
   "metadata": {
    "id": "JocGuRLVoIO1",
    "papermill": {
     "duration": null,
     "end_time": null,
     "exception": null,
     "start_time": null,
     "status": "pending"
    },
    "tags": []
   },
   "outputs": [],
   "source": []
  }
 ],
 "metadata": {
  "accelerator": "GPU",
  "colab": {
   "gpuType": "T4",
   "provenance": []
  },
  "kaggle": {
   "accelerator": "nvidiaTeslaT4",
   "dataSources": [
    {
     "datasetId": 7503942,
     "sourceId": 11935626,
     "sourceType": "datasetVersion"
    }
   ],
   "dockerImageVersionId": 31041,
   "isGpuEnabled": true,
   "isInternetEnabled": true,
   "language": "python",
   "sourceType": "notebook"
  },
  "kernelspec": {
   "display_name": "Python 3",
   "language": "python",
   "name": "python3"
  },
  "language_info": {
   "codemirror_mode": {
    "name": "ipython",
    "version": 3
   },
   "file_extension": ".py",
   "mimetype": "text/x-python",
   "name": "python",
   "nbconvert_exporter": "python",
   "pygments_lexer": "ipython3",
   "version": "3.11.11"
  },
  "papermill": {
   "default_parameters": {},
   "duration": 15175.563448,
   "end_time": "2025-05-26T11:43:26.914791",
   "environment_variables": {},
   "exception": true,
   "input_path": "__notebook__.ipynb",
   "output_path": "__notebook__.ipynb",
   "parameters": {},
   "start_time": "2025-05-26T07:30:31.351343",
   "version": "2.6.0"
  }
 },
 "nbformat": 4,
 "nbformat_minor": 5
}
